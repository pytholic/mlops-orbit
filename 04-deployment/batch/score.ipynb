{
 "cells": [
  {
   "cell_type": "code",
   "execution_count": 1,
   "metadata": {},
   "outputs": [],
   "source": [
    "import os\n",
    "import mlflow\n",
    "import pickle\n",
    "import pandas as pd\n",
    "import uuid\n",
    "\n",
    "from sklearn.feature_extraction import DictVectorizer\n",
    "from sklearn.ensemble import RandomForestRegressor\n",
    "from sklearn.metrics import mean_squared_error\n",
    "\n",
    "from sklearn.pipeline import make_pipeline"
   ]
  },
  {
   "cell_type": "code",
   "execution_count": 13,
   "metadata": {},
   "outputs": [],
   "source": [
    "year = 2021\n",
    "month = 3\n",
    "taxi_type = \"green\"\n",
    "\n",
    "if not os.path.exists(f\"output/{taxi_type}\"): \n",
    "    os.makedirs(f\"output/{taxi_type}\") \n",
    "\n",
    "input_file = f\"https://d37ci6vzurychx.cloudfront.net/trip-data/{taxi_type}_tripdata_{year:04d}-{month:02d}.parquet\"  # download from link\n",
    "output_file = f\"output/{taxi_type}/{year:04d}-{month:02d}.parquet\"\n",
    "\n",
    "EXPERIMENT_ID = 1\n",
    "RUN_ID = os.getenv(\"RUN_ID\", \"553def03f5224f649fe56bc1567daccc\")\n",
    "logged_model = f\"gs://pytholic-mlops-zoomcamp-artifacts/{EXPERIMENT_ID}/{RUN_ID}/artifacts/model\"\n",
    "service_account_key_path = os.path.expanduser('~') + \"/service_account_key.json\"\n",
    "os.environ[\"GOOGLE_APPLICATION_CREDENTIALS\"] = service_account_key_path"
   ]
  },
  {
   "cell_type": "code",
   "execution_count": 14,
   "metadata": {},
   "outputs": [],
   "source": [
    "def gen_uuids(n):\n",
    "    ride_ids = []\n",
    "    for i in range(n):\n",
    "        ride_ids.append(str(uuid.uuid4()))\n",
    "    return ride_ids\n",
    "\n",
    "def read_dataframe(filename: str):\n",
    "    df = pd.read_parquet(filename)\n",
    "\n",
    "    df['duration'] = df.lpep_dropoff_datetime - df.lpep_pickup_datetime\n",
    "    df.duration = df.duration.dt.total_seconds() / 60\n",
    "    df = df[(df.duration >= 1) & (df.duration <= 60)]    \n",
    "\n",
    "    df[\"ride_id\"] = gen_uuids(len(df))\n",
    "    return df\n",
    "\n",
    "def prepare_dictionaries(df: pd.DataFrame):\n",
    "    categorical = ['PULocationID', 'DOLocationID']\n",
    "    df[categorical] = df[categorical].astype(str)\n",
    "    df['PU_DO'] = df['PULocationID'] + '_' + df['DOLocationID']\n",
    "    categorical = ['PU_DO']\n",
    "    numerical = ['trip_distance']\n",
    "    dicts = df[categorical + numerical].to_dict(orient='records')\n",
    "    return dicts"
   ]
  },
  {
   "cell_type": "code",
   "execution_count": 15,
   "metadata": {},
   "outputs": [],
   "source": [
    "def load_model(experiment_id, run_id):\n",
    "    logged_model = f\"gs://pytholic-mlops-zoomcamp-artifacts/{experiment_id}/{run_id}/artifacts/model\"\n",
    "    model = mlflow.pyfunc.load_model(logged_model)\n",
    "    return model\n",
    "    \n",
    "\n",
    "def apply_model(input_file, experiment_id, run_id, output_file):\n",
    "\n",
    "    df = read_dataframe(input_file)\n",
    "    dicts = prepare_dictionaries(df)\n",
    "\n",
    "    model = load_model(experiment_id, run_id)\n",
    "    y_pred = model.predict(dicts)\n",
    "\n",
    "    df_result = pd.DataFrame()\n",
    "    df_result[\"ride_id\"] = df[\"ride_id\"]\n",
    "    df_result[\"lpep_pickup_datetime\"] = df[\"lpep_pickup_datetime\"]\n",
    "    df_result[\"PULocationID\"] = df[\"PULocationID\"]\n",
    "    df_result[\"DOLocationID\"] = df[\"DOLocationID\"]\n",
    "    df_result[\"actual_duration\"] = df[\"duration\"]\n",
    "    df_result[\"predicted_duration\"] = y_pred\n",
    "    df_result[\"diff\"] = df_result[\"actual_duration\"] - df_result[\"predicted_duration\"]\n",
    "    df_result[\"model_version\"] = RUN_ID\n",
    "\n",
    "    df_result.to_parquet(output_file, index=False)\n",
    "\n",
    "    "
   ]
  },
  {
   "cell_type": "code",
   "execution_count": 16,
   "metadata": {},
   "outputs": [
    {
     "name": "stderr",
     "output_type": "stream",
     "text": [
      "2024/01/16 08:57:22 WARNING mlflow.pyfunc: Detected one or more mismatches between the model's dependencies and the current Python environment:\n",
      " - psutil (current: 5.9.0, required: psutil==5.9.7)\n",
      "To fix the mismatches, call `mlflow.pyfunc.get_model_dependencies(model_uri)` to fetch the model's environment and install dependencies using the resulting environment file.\n"
     ]
    }
   ],
   "source": [
    "apply_model(input_file, EXPERIMENT_ID, RUN_ID, output_file)"
   ]
  },
  {
   "cell_type": "code",
   "execution_count": 17,
   "metadata": {},
   "outputs": [
    {
     "name": "stdout",
     "output_type": "stream",
     "text": [
      "2021-02.parquet  2021-03.parquet\n"
     ]
    }
   ],
   "source": [
    "!ls output/green"
   ]
  },
  {
   "cell_type": "code",
   "execution_count": null,
   "metadata": {},
   "outputs": [],
   "source": []
  }
 ],
 "metadata": {
  "kernelspec": {
   "display_name": "exp-tracking",
   "language": "python",
   "name": "python3"
  },
  "language_info": {
   "codemirror_mode": {
    "name": "ipython",
    "version": 3
   },
   "file_extension": ".py",
   "mimetype": "text/x-python",
   "name": "python",
   "nbconvert_exporter": "python",
   "pygments_lexer": "ipython3",
   "version": "3.9.18"
  }
 },
 "nbformat": 4,
 "nbformat_minor": 2
}
